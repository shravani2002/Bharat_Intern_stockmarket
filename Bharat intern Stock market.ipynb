{
 "cells": [
  {
   "cell_type": "code",
   "execution_count": 1,
   "id": "08c7b94b",
   "metadata": {},
   "outputs": [
    {
     "name": "stdout",
     "output_type": "stream",
     "text": [
      "Requirement already satisfied: keras in c:\\users\\dell\\anaconda3\\lib\\site-packages (2.14.0)\n",
      "Note: you may need to restart the kernel to use updated packages.\n"
     ]
    }
   ],
   "source": [
    "pip install keras"
   ]
  },
  {
   "cell_type": "code",
   "execution_count": 2,
   "id": "272b4599",
   "metadata": {},
   "outputs": [
    {
     "name": "stdout",
     "output_type": "stream",
     "text": [
      "Requirement already satisfied: tensorflow in c:\\users\\dell\\anaconda3\\lib\\site-packages (2.14.0)\n",
      "Requirement already satisfied: tensorflow-intel==2.14.0 in c:\\users\\dell\\anaconda3\\lib\\site-packages (from tensorflow) (2.14.0)\n",
      "Requirement already satisfied: tensorboard<2.15,>=2.14 in c:\\users\\dell\\anaconda3\\lib\\site-packages (from tensorflow-intel==2.14.0->tensorflow) (2.14.1)\n",
      "Requirement already satisfied: google-pasta>=0.1.1 in c:\\users\\dell\\anaconda3\\lib\\site-packages (from tensorflow-intel==2.14.0->tensorflow) (0.2.0)\n",
      "Requirement already satisfied: gast!=0.5.0,!=0.5.1,!=0.5.2,>=0.2.1 in c:\\users\\dell\\anaconda3\\lib\\site-packages (from tensorflow-intel==2.14.0->tensorflow) (0.5.4)\n",
      "Requirement already satisfied: astunparse>=1.6.0 in c:\\users\\dell\\anaconda3\\lib\\site-packages (from tensorflow-intel==2.14.0->tensorflow) (1.6.3)\n",
      "Requirement already satisfied: grpcio<2.0,>=1.24.3 in c:\\users\\dell\\anaconda3\\lib\\site-packages (from tensorflow-intel==2.14.0->tensorflow) (1.59.0)\n",
      "Requirement already satisfied: tensorflow-io-gcs-filesystem>=0.23.1 in c:\\users\\dell\\anaconda3\\lib\\site-packages (from tensorflow-intel==2.14.0->tensorflow) (0.31.0)\n",
      "Requirement already satisfied: protobuf!=4.21.0,!=4.21.1,!=4.21.2,!=4.21.3,!=4.21.4,!=4.21.5,<5.0.0dev,>=3.20.3 in c:\\users\\dell\\anaconda3\\lib\\site-packages (from tensorflow-intel==2.14.0->tensorflow) (4.24.4)\n",
      "Requirement already satisfied: opt-einsum>=2.3.2 in c:\\users\\dell\\anaconda3\\lib\\site-packages (from tensorflow-intel==2.14.0->tensorflow) (3.3.0)\n",
      "Requirement already satisfied: numpy>=1.23.5 in c:\\users\\dell\\anaconda3\\lib\\site-packages (from tensorflow-intel==2.14.0->tensorflow) (1.26.0)\n",
      "Requirement already satisfied: h5py>=2.9.0 in c:\\users\\dell\\anaconda3\\lib\\site-packages (from tensorflow-intel==2.14.0->tensorflow) (3.7.0)\n",
      "Requirement already satisfied: keras<2.15,>=2.14.0 in c:\\users\\dell\\anaconda3\\lib\\site-packages (from tensorflow-intel==2.14.0->tensorflow) (2.14.0)\n",
      "Requirement already satisfied: absl-py>=1.0.0 in c:\\users\\dell\\anaconda3\\lib\\site-packages (from tensorflow-intel==2.14.0->tensorflow) (2.0.0)\n",
      "Requirement already satisfied: packaging in c:\\users\\dell\\anaconda3\\lib\\site-packages (from tensorflow-intel==2.14.0->tensorflow) (21.3)\n",
      "Requirement already satisfied: libclang>=13.0.0 in c:\\users\\dell\\anaconda3\\lib\\site-packages (from tensorflow-intel==2.14.0->tensorflow) (16.0.6)\n",
      "Requirement already satisfied: wrapt<1.15,>=1.11.0 in c:\\users\\dell\\anaconda3\\lib\\site-packages (from tensorflow-intel==2.14.0->tensorflow) (1.14.1)\n",
      "Requirement already satisfied: tensorflow-estimator<2.15,>=2.14.0 in c:\\users\\dell\\anaconda3\\lib\\site-packages (from tensorflow-intel==2.14.0->tensorflow) (2.14.0)\n",
      "Requirement already satisfied: setuptools in c:\\users\\dell\\anaconda3\\lib\\site-packages (from tensorflow-intel==2.14.0->tensorflow) (63.4.1)\n",
      "Requirement already satisfied: termcolor>=1.1.0 in c:\\users\\dell\\anaconda3\\lib\\site-packages (from tensorflow-intel==2.14.0->tensorflow) (2.3.0)\n",
      "Requirement already satisfied: ml-dtypes==0.2.0 in c:\\users\\dell\\anaconda3\\lib\\site-packages (from tensorflow-intel==2.14.0->tensorflow) (0.2.0)\n",
      "Requirement already satisfied: six>=1.12.0 in c:\\users\\dell\\anaconda3\\lib\\site-packages (from tensorflow-intel==2.14.0->tensorflow) (1.16.0)\n",
      "Requirement already satisfied: flatbuffers>=23.5.26 in c:\\users\\dell\\anaconda3\\lib\\site-packages (from tensorflow-intel==2.14.0->tensorflow) (23.5.26)\n",
      "Requirement already satisfied: typing-extensions>=3.6.6 in c:\\users\\dell\\anaconda3\\lib\\site-packages (from tensorflow-intel==2.14.0->tensorflow) (4.3.0)\n",
      "Requirement already satisfied: wheel<1.0,>=0.23.0 in c:\\users\\dell\\anaconda3\\lib\\site-packages (from astunparse>=1.6.0->tensorflow-intel==2.14.0->tensorflow) (0.37.1)\n",
      "Requirement already satisfied: markdown>=2.6.8 in c:\\users\\dell\\anaconda3\\lib\\site-packages (from tensorboard<2.15,>=2.14->tensorflow-intel==2.14.0->tensorflow) (3.3.4)\n",
      "Requirement already satisfied: google-auth-oauthlib<1.1,>=0.5 in c:\\users\\dell\\anaconda3\\lib\\site-packages (from tensorboard<2.15,>=2.14->tensorflow-intel==2.14.0->tensorflow) (1.0.0)\n",
      "Requirement already satisfied: werkzeug>=1.0.1 in c:\\users\\dell\\anaconda3\\lib\\site-packages (from tensorboard<2.15,>=2.14->tensorflow-intel==2.14.0->tensorflow) (2.0.3)\n",
      "Requirement already satisfied: tensorboard-data-server<0.8.0,>=0.7.0 in c:\\users\\dell\\anaconda3\\lib\\site-packages (from tensorboard<2.15,>=2.14->tensorflow-intel==2.14.0->tensorflow) (0.7.1)\n",
      "Requirement already satisfied: requests<3,>=2.21.0 in c:\\users\\dell\\anaconda3\\lib\\site-packages (from tensorboard<2.15,>=2.14->tensorflow-intel==2.14.0->tensorflow) (2.28.1)\n",
      "Requirement already satisfied: google-auth<3,>=1.6.3 in c:\\users\\dell\\anaconda3\\lib\\site-packages (from tensorboard<2.15,>=2.14->tensorflow-intel==2.14.0->tensorflow) (2.23.3)\n",
      "Requirement already satisfied: pyparsing!=3.0.5,>=2.0.2 in c:\\users\\dell\\anaconda3\\lib\\site-packages (from packaging->tensorflow-intel==2.14.0->tensorflow) (3.0.9)\n",
      "Requirement already satisfied: pyasn1-modules>=0.2.1 in c:\\users\\dell\\anaconda3\\lib\\site-packages (from google-auth<3,>=1.6.3->tensorboard<2.15,>=2.14->tensorflow-intel==2.14.0->tensorflow) (0.2.8)\n",
      "Requirement already satisfied: cachetools<6.0,>=2.0.0 in c:\\users\\dell\\anaconda3\\lib\\site-packages (from google-auth<3,>=1.6.3->tensorboard<2.15,>=2.14->tensorflow-intel==2.14.0->tensorflow) (5.3.1)\n",
      "Requirement already satisfied: rsa<5,>=3.1.4 in c:\\users\\dell\\anaconda3\\lib\\site-packages (from google-auth<3,>=1.6.3->tensorboard<2.15,>=2.14->tensorflow-intel==2.14.0->tensorflow) (4.9)\n",
      "Requirement already satisfied: requests-oauthlib>=0.7.0 in c:\\users\\dell\\anaconda3\\lib\\site-packages (from google-auth-oauthlib<1.1,>=0.5->tensorboard<2.15,>=2.14->tensorflow-intel==2.14.0->tensorflow) (1.3.1)\n",
      "Requirement already satisfied: charset-normalizer<3,>=2 in c:\\users\\dell\\anaconda3\\lib\\site-packages (from requests<3,>=2.21.0->tensorboard<2.15,>=2.14->tensorflow-intel==2.14.0->tensorflow) (2.0.4)\n",
      "Requirement already satisfied: certifi>=2017.4.17 in c:\\users\\dell\\anaconda3\\lib\\site-packages (from requests<3,>=2.21.0->tensorboard<2.15,>=2.14->tensorflow-intel==2.14.0->tensorflow) (2022.9.14)\n",
      "Requirement already satisfied: urllib3<1.27,>=1.21.1 in c:\\users\\dell\\anaconda3\\lib\\site-packages (from requests<3,>=2.21.0->tensorboard<2.15,>=2.14->tensorflow-intel==2.14.0->tensorflow) (1.26.11)\n",
      "Requirement already satisfied: idna<4,>=2.5 in c:\\users\\dell\\anaconda3\\lib\\site-packages (from requests<3,>=2.21.0->tensorboard<2.15,>=2.14->tensorflow-intel==2.14.0->tensorflow) (3.3)\n",
      "Requirement already satisfied: pyasn1<0.5.0,>=0.4.6 in c:\\users\\dell\\anaconda3\\lib\\site-packages (from pyasn1-modules>=0.2.1->google-auth<3,>=1.6.3->tensorboard<2.15,>=2.14->tensorflow-intel==2.14.0->tensorflow) (0.4.8)\n",
      "Requirement already satisfied: oauthlib>=3.0.0 in c:\\users\\dell\\anaconda3\\lib\\site-packages (from requests-oauthlib>=0.7.0->google-auth-oauthlib<1.1,>=0.5->tensorboard<2.15,>=2.14->tensorflow-intel==2.14.0->tensorflow) (3.2.2)\n",
      "Note: you may need to restart the kernel to use updated packages.\n"
     ]
    }
   ],
   "source": [
    "pip install tensorflow"
   ]
  },
  {
   "cell_type": "code",
   "execution_count": 3,
   "id": "50e7a340",
   "metadata": {},
   "outputs": [
    {
     "name": "stderr",
     "output_type": "stream",
     "text": [
      "C:\\Users\\DELL\\anaconda3\\lib\\site-packages\\scipy\\__init__.py:155: UserWarning: A NumPy version >=1.18.5 and <1.25.0 is required for this version of SciPy (detected version 1.26.0\n",
      "  warnings.warn(f\"A NumPy version >={np_minversion} and <{np_maxversion}\"\n"
     ]
    }
   ],
   "source": [
    "import numpy as np\n",
    "import pandas as pd\n",
    "import matplotlib.pyplot as plt\n",
    "from sklearn.preprocessing import MinMaxScaler\n",
    "from keras.models import Sequential\n",
    "from keras.layers import Dense, LSTM, Dropout\n",
    "import warnings\n",
    "warnings.filterwarnings('ignore')"
   ]
  },
  {
   "cell_type": "code",
   "execution_count": 4,
   "id": "59b3cfe1",
   "metadata": {},
   "outputs": [],
   "source": [
    "tcs = pd.read_csv(\"D:\\\\BE practicals\\\\ML\\\\TCS_stock_history.csv\")"
   ]
  },
  {
   "cell_type": "code",
   "execution_count": 5,
   "id": "fc677b45",
   "metadata": {},
   "outputs": [
    {
     "name": "stdout",
     "output_type": "stream",
     "text": [
      "<class 'pandas.core.frame.DataFrame'>\n",
      "RangeIndex: 4463 entries, 0 to 4462\n",
      "Data columns (total 8 columns):\n",
      " #   Column        Non-Null Count  Dtype  \n",
      "---  ------        --------------  -----  \n",
      " 0   Date          4463 non-null   object \n",
      " 1   Open          4463 non-null   float64\n",
      " 2   High          4463 non-null   float64\n",
      " 3   Low           4463 non-null   float64\n",
      " 4   Close         4463 non-null   float64\n",
      " 5   Volume        4463 non-null   int64  \n",
      " 6   Dividends     4463 non-null   float64\n",
      " 7   Stock Splits  4463 non-null   float64\n",
      "dtypes: float64(6), int64(1), object(1)\n",
      "memory usage: 279.1+ KB\n"
     ]
    }
   ],
   "source": [
    "tcs.info()"
   ]
  },
  {
   "cell_type": "code",
   "execution_count": 6,
   "id": "c3822c9c",
   "metadata": {},
   "outputs": [
    {
     "data": {
      "text/html": [
       "<div>\n",
       "<style scoped>\n",
       "    .dataframe tbody tr th:only-of-type {\n",
       "        vertical-align: middle;\n",
       "    }\n",
       "\n",
       "    .dataframe tbody tr th {\n",
       "        vertical-align: top;\n",
       "    }\n",
       "\n",
       "    .dataframe thead th {\n",
       "        text-align: right;\n",
       "    }\n",
       "</style>\n",
       "<table border=\"1\" class=\"dataframe\">\n",
       "  <thead>\n",
       "    <tr style=\"text-align: right;\">\n",
       "      <th></th>\n",
       "      <th>Date</th>\n",
       "      <th>Open</th>\n",
       "      <th>High</th>\n",
       "      <th>Low</th>\n",
       "      <th>Close</th>\n",
       "      <th>Volume</th>\n",
       "      <th>Dividends</th>\n",
       "      <th>Stock Splits</th>\n",
       "    </tr>\n",
       "  </thead>\n",
       "  <tbody>\n",
       "    <tr>\n",
       "      <th>0</th>\n",
       "      <td>2002-08-12</td>\n",
       "      <td>28.794172</td>\n",
       "      <td>29.742206</td>\n",
       "      <td>28.794172</td>\n",
       "      <td>29.519140</td>\n",
       "      <td>212976</td>\n",
       "      <td>0.0</td>\n",
       "      <td>0.0</td>\n",
       "    </tr>\n",
       "    <tr>\n",
       "      <th>1</th>\n",
       "      <td>2002-08-13</td>\n",
       "      <td>29.556316</td>\n",
       "      <td>30.030333</td>\n",
       "      <td>28.905705</td>\n",
       "      <td>29.119476</td>\n",
       "      <td>153576</td>\n",
       "      <td>0.0</td>\n",
       "      <td>0.0</td>\n",
       "    </tr>\n",
       "    <tr>\n",
       "      <th>2</th>\n",
       "      <td>2002-08-14</td>\n",
       "      <td>29.184536</td>\n",
       "      <td>29.184536</td>\n",
       "      <td>26.563503</td>\n",
       "      <td>27.111877</td>\n",
       "      <td>822776</td>\n",
       "      <td>0.0</td>\n",
       "      <td>0.0</td>\n",
       "    </tr>\n",
       "    <tr>\n",
       "      <th>3</th>\n",
       "      <td>2002-08-15</td>\n",
       "      <td>27.111877</td>\n",
       "      <td>27.111877</td>\n",
       "      <td>27.111877</td>\n",
       "      <td>27.111877</td>\n",
       "      <td>0</td>\n",
       "      <td>0.0</td>\n",
       "      <td>0.0</td>\n",
       "    </tr>\n",
       "    <tr>\n",
       "      <th>4</th>\n",
       "      <td>2002-08-16</td>\n",
       "      <td>26.972458</td>\n",
       "      <td>28.255089</td>\n",
       "      <td>26.582090</td>\n",
       "      <td>27.046812</td>\n",
       "      <td>811856</td>\n",
       "      <td>0.0</td>\n",
       "      <td>0.0</td>\n",
       "    </tr>\n",
       "  </tbody>\n",
       "</table>\n",
       "</div>"
      ],
      "text/plain": [
       "         Date       Open       High        Low      Close  Volume  Dividends  \\\n",
       "0  2002-08-12  28.794172  29.742206  28.794172  29.519140  212976        0.0   \n",
       "1  2002-08-13  29.556316  30.030333  28.905705  29.119476  153576        0.0   \n",
       "2  2002-08-14  29.184536  29.184536  26.563503  27.111877  822776        0.0   \n",
       "3  2002-08-15  27.111877  27.111877  27.111877  27.111877       0        0.0   \n",
       "4  2002-08-16  26.972458  28.255089  26.582090  27.046812  811856        0.0   \n",
       "\n",
       "   Stock Splits  \n",
       "0           0.0  \n",
       "1           0.0  \n",
       "2           0.0  \n",
       "3           0.0  \n",
       "4           0.0  "
      ]
     },
     "execution_count": 6,
     "metadata": {},
     "output_type": "execute_result"
    }
   ],
   "source": [
    "tcs.head()"
   ]
  },
  {
   "cell_type": "code",
   "execution_count": 7,
   "id": "cc478f00",
   "metadata": {},
   "outputs": [
    {
     "data": {
      "text/plain": [
       "(4463, 8)"
      ]
     },
     "execution_count": 7,
     "metadata": {},
     "output_type": "execute_result"
    }
   ],
   "source": [
    "tcs.shape"
   ]
  },
  {
   "cell_type": "code",
   "execution_count": 8,
   "id": "af2a79fa",
   "metadata": {},
   "outputs": [],
   "source": [
    "train_data = tcs.iloc[:,4:5].values"
   ]
  },
  {
   "cell_type": "code",
   "execution_count": 9,
   "id": "aff1da40",
   "metadata": {},
   "outputs": [
    {
     "data": {
      "text/plain": [
       "array([[  29.51914024],\n",
       "       [  29.11947632],\n",
       "       [  27.11187744],\n",
       "       ...,\n",
       "       [3779.14990234],\n",
       "       [3791.89990234],\n",
       "       [3773.19995117]])"
      ]
     },
     "execution_count": 9,
     "metadata": {},
     "output_type": "execute_result"
    }
   ],
   "source": [
    "train_data"
   ]
  },
  {
   "cell_type": "code",
   "execution_count": 10,
   "id": "75a0f784",
   "metadata": {},
   "outputs": [
    {
     "data": {
      "text/plain": [
       "(4463, 1)"
      ]
     },
     "execution_count": 10,
     "metadata": {},
     "output_type": "execute_result"
    }
   ],
   "source": [
    "sc = MinMaxScaler(feature_range=(0,1))\n",
    "train_data = sc.fit_transform(train_data)\n",
    "train_data.shape"
   ]
  },
  {
   "cell_type": "code",
   "execution_count": 11,
   "id": "1be976af",
   "metadata": {},
   "outputs": [],
   "source": [
    "# preparing data for training\n",
    "\n",
    "x_train = []\n",
    "y_train = []\n",
    "\n",
    "# 5 --> timestep and 4463 --> length of data\n",
    "for i in range(5, 4463):\n",
    "    x_train.append(train_data[i-5:i,0])\n",
    "    y_train.append(train_data[i,0])\n",
    "\n",
    "x_train, y_train = np.array(x_train), np.array(y_train)"
   ]
  },
  {
   "cell_type": "code",
   "execution_count": 12,
   "id": "a8b9b33e",
   "metadata": {},
   "outputs": [
    {
     "data": {
      "text/plain": [
       "(4458, 5, 1)"
      ]
     },
     "execution_count": 12,
     "metadata": {},
     "output_type": "execute_result"
    }
   ],
   "source": [
    "x_train = np.reshape(x_train,(x_train.shape[0],x_train.shape[1],1)) # adding the batch_size axis\n",
    "x_train.shape"
   ]
  },
  {
   "cell_type": "code",
   "execution_count": 13,
   "id": "5c90ebf7",
   "metadata": {},
   "outputs": [],
   "source": [
    "model = Sequential()\n",
    "\n",
    "model.add(LSTM(units=100, return_sequences=True, input_shape=(x_train.shape[1],1)))\n",
    "model.add(Dropout(0.2))\n",
    "\n",
    "model.add(LSTM(units=100, return_sequences=True))\n",
    "model.add(Dropout(0.2))\n",
    "\n",
    "model.add(LSTM(units=100, return_sequences=True))\n",
    "model.add(Dropout(0.2))\n",
    "\n",
    "model.add(LSTM(units=100, return_sequences=False))\n",
    "model.add(Dropout(0.2))\n",
    "\n",
    "model.add(Dense(units=1))\n",
    "model.compile(optimizer='adam', loss='mean_squared_error')"
   ]
  },
  {
   "cell_type": "code",
   "execution_count": 15,
   "id": "1000dbb7",
   "metadata": {},
   "outputs": [
    {
     "name": "stdout",
     "output_type": "stream",
     "text": [
      "Epoch 1/50\n",
      "4458/4458 - 33s - loss: 3.2874e-04 - 33s/epoch - 7ms/step\n",
      "Epoch 2/50\n",
      "4458/4458 - 31s - loss: 3.1491e-04 - 31s/epoch - 7ms/step\n",
      "Epoch 3/50\n",
      "4458/4458 - 31s - loss: 3.1719e-04 - 31s/epoch - 7ms/step\n",
      "Epoch 4/50\n",
      "4458/4458 - 31s - loss: 3.1690e-04 - 31s/epoch - 7ms/step\n",
      "Epoch 5/50\n",
      "4458/4458 - 31s - loss: 3.2724e-04 - 31s/epoch - 7ms/step\n",
      "Epoch 6/50\n",
      "4458/4458 - 31s - loss: 3.2371e-04 - 31s/epoch - 7ms/step\n",
      "Epoch 7/50\n",
      "4458/4458 - 31s - loss: 3.0882e-04 - 31s/epoch - 7ms/step\n",
      "Epoch 8/50\n",
      "4458/4458 - 31s - loss: 3.3664e-04 - 31s/epoch - 7ms/step\n",
      "Epoch 9/50\n",
      "4458/4458 - 33s - loss: 3.2107e-04 - 33s/epoch - 7ms/step\n",
      "Epoch 10/50\n",
      "4458/4458 - 35s - loss: 3.0606e-04 - 35s/epoch - 8ms/step\n",
      "Epoch 11/50\n",
      "4458/4458 - 36s - loss: 3.1601e-04 - 36s/epoch - 8ms/step\n",
      "Epoch 12/50\n",
      "4458/4458 - 33s - loss: 3.2907e-04 - 33s/epoch - 7ms/step\n",
      "Epoch 13/50\n",
      "4458/4458 - 143s - loss: 3.0798e-04 - 143s/epoch - 32ms/step\n",
      "Epoch 14/50\n",
      "4458/4458 - 29s - loss: 2.9170e-04 - 29s/epoch - 6ms/step\n",
      "Epoch 15/50\n",
      "4458/4458 - 29s - loss: 3.0423e-04 - 29s/epoch - 7ms/step\n",
      "Epoch 16/50\n",
      "4458/4458 - 30s - loss: 2.9779e-04 - 30s/epoch - 7ms/step\n",
      "Epoch 17/50\n",
      "4458/4458 - 30s - loss: 3.0445e-04 - 30s/epoch - 7ms/step\n",
      "Epoch 18/50\n",
      "4458/4458 - 30s - loss: 2.8388e-04 - 30s/epoch - 7ms/step\n",
      "Epoch 19/50\n",
      "4458/4458 - 31s - loss: 3.1467e-04 - 31s/epoch - 7ms/step\n",
      "Epoch 20/50\n",
      "4458/4458 - 32s - loss: 2.8261e-04 - 32s/epoch - 7ms/step\n",
      "Epoch 21/50\n",
      "4458/4458 - 30s - loss: 2.8781e-04 - 30s/epoch - 7ms/step\n",
      "Epoch 22/50\n",
      "4458/4458 - 30s - loss: 2.9257e-04 - 30s/epoch - 7ms/step\n",
      "Epoch 23/50\n",
      "4458/4458 - 30s - loss: 2.8039e-04 - 30s/epoch - 7ms/step\n",
      "Epoch 24/50\n",
      "4458/4458 - 30s - loss: 3.1250e-04 - 30s/epoch - 7ms/step\n",
      "Epoch 25/50\n",
      "4458/4458 - 31s - loss: 2.9959e-04 - 31s/epoch - 7ms/step\n",
      "Epoch 26/50\n",
      "4458/4458 - 31s - loss: 3.0368e-04 - 31s/epoch - 7ms/step\n",
      "Epoch 27/50\n",
      "4458/4458 - 30s - loss: 2.8637e-04 - 30s/epoch - 7ms/step\n",
      "Epoch 28/50\n",
      "4458/4458 - 31s - loss: 2.8810e-04 - 31s/epoch - 7ms/step\n",
      "Epoch 29/50\n",
      "4458/4458 - 35s - loss: 2.9591e-04 - 35s/epoch - 8ms/step\n",
      "Epoch 30/50\n",
      "4458/4458 - 117s - loss: 2.8335e-04 - 117s/epoch - 26ms/step\n",
      "Epoch 31/50\n",
      "4458/4458 - 27s - loss: 2.7938e-04 - 27s/epoch - 6ms/step\n",
      "Epoch 32/50\n",
      "4458/4458 - 29s - loss: 2.7089e-04 - 29s/epoch - 7ms/step\n",
      "Epoch 33/50\n",
      "4458/4458 - 30s - loss: 2.7437e-04 - 30s/epoch - 7ms/step\n",
      "Epoch 34/50\n",
      "4458/4458 - 30s - loss: 2.8210e-04 - 30s/epoch - 7ms/step\n",
      "Epoch 35/50\n",
      "4458/4458 - 31s - loss: 2.7582e-04 - 31s/epoch - 7ms/step\n",
      "Epoch 36/50\n",
      "4458/4458 - 31s - loss: 2.7639e-04 - 31s/epoch - 7ms/step\n",
      "Epoch 37/50\n",
      "4458/4458 - 31s - loss: 2.7370e-04 - 31s/epoch - 7ms/step\n",
      "Epoch 38/50\n",
      "4458/4458 - 30s - loss: 2.6514e-04 - 30s/epoch - 7ms/step\n",
      "Epoch 39/50\n",
      "4458/4458 - 31s - loss: 2.6292e-04 - 31s/epoch - 7ms/step\n",
      "Epoch 40/50\n",
      "4458/4458 - 32s - loss: 2.7342e-04 - 32s/epoch - 7ms/step\n",
      "Epoch 41/50\n",
      "4458/4458 - 45s - loss: 2.6304e-04 - 45s/epoch - 10ms/step\n",
      "Epoch 42/50\n",
      "4458/4458 - 31s - loss: 2.5719e-04 - 31s/epoch - 7ms/step\n",
      "Epoch 43/50\n",
      "4458/4458 - 31s - loss: 2.6454e-04 - 31s/epoch - 7ms/step\n",
      "Epoch 44/50\n",
      "4458/4458 - 31s - loss: 2.6244e-04 - 31s/epoch - 7ms/step\n",
      "Epoch 45/50\n",
      "4458/4458 - 32s - loss: 2.7486e-04 - 32s/epoch - 7ms/step\n",
      "Epoch 46/50\n",
      "4458/4458 - 33s - loss: 2.5290e-04 - 33s/epoch - 7ms/step\n",
      "Epoch 47/50\n",
      "4458/4458 - 32s - loss: 2.8297e-04 - 32s/epoch - 7ms/step\n",
      "Epoch 48/50\n",
      "4458/4458 - 32s - loss: 2.4071e-04 - 32s/epoch - 7ms/step\n",
      "Epoch 49/50\n",
      "4458/4458 - 31s - loss: 2.7158e-04 - 31s/epoch - 7ms/step\n",
      "Epoch 50/50\n",
      "4458/4458 - 31s - loss: 2.7731e-04 - 31s/epoch - 7ms/step\n"
     ]
    }
   ],
   "source": [
    "# training our model\n",
    "hist = model.fit(x_train, y_train, epochs=50, batch_size=1, verbose=2)"
   ]
  },
  {
   "cell_type": "code",
   "execution_count": 17,
   "id": "7f723533",
   "metadata": {},
   "outputs": [
    {
     "data": {
      "image/png": "[encoded data removed]",
      "text/plain": [
       "<Figure size 640x480 with 1 Axes>"
      ]
     },
     "metadata": {},
     "output_type": "display_data"
    }
   ],
   "source": [
    "# visualizing the loss at each epoch\n",
    "plt.plot(hist.history[\"loss\"])\n",
    "plt.title(\"Training Model Loss\")\n",
    "plt.xlabel(\"epoch\")\n",
    "plt.ylabel(\"loss\")\n",
    "plt.legend([\"train\"], loc=\"upper left\")\n",
    "plt.show()"
   ]
  },
  {
   "cell_type": "code",
   "execution_count": 28,
   "id": "fee857fc",
   "metadata": {},
   "outputs": [
    {
     "name": "stdout",
     "output_type": "stream",
     "text": [
      "[[  26.37760925]\n",
      " [  27.11187744]\n",
      " [  28.44096375]\n",
      " ...\n",
      " [3779.14990234]\n",
      " [3791.89990234]\n",
      " [3773.19995117]]\n",
      "(4463, 1)\n"
     ]
    },
    {
     "data": {
      "text/plain": [
       "(15, 5, 1)"
      ]
     },
     "execution_count": 28,
     "metadata": {},
     "output_type": "execute_result"
    }
   ],
   "source": [
    "# testing out model, using the test dataset\n",
    "\n",
    "testdata = pd.read_csv(\"D:\\\\BE practicals\\\\ML\\\\TCS_stock_history.csv\")\n",
    "# print(testdata)\n",
    "testdata[\"Close\"] = pd.to_numeric(testdata.Close, errors=\"coerce\")\n",
    "# print(testdata.info())\n",
    "testdata = testdata.dropna()\n",
    "testdata= testdata.iloc[:,4:5]\n",
    "# print(testdata)\n",
    "# print(testdata.shape)\n",
    "y_test = testdata.iloc[ 5: , 0:].values\n",
    "# y_test = testdata.iloc[ : , : ].values\n",
    "print(y_test)\n",
    "\n",
    "# # input array for the model\n",
    "inputclosing = testdata.iloc[:,0:].values\n",
    "# print(inputclosing)\n",
    "inputclosing_scaled =  sc.transform(inputclosing)\n",
    "# print(inputclosing_scaled)\n",
    "print(inputclosing_scaled.shape)\n",
    "\n",
    "x_test = []\n",
    "length = len(testdata)\n",
    "timestep = 5\n",
    "\n",
    "for i in range(5, 20):\n",
    "    x_test.append(inputclosing_scaled[i-5:i,0])\n",
    "# print(x_test)\n",
    "\n",
    "x_test = np.array(x_test)\n",
    "# print(x_test)\n",
    "x_test = np.reshape(x_test, (x_test.shape[0], x_test.shape[1], 1))\n",
    "x_test.shape"
   ]
  },
  {
   "cell_type": "code",
   "execution_count": 29,
   "id": "6dfa6b0c",
   "metadata": {},
   "outputs": [
    {
     "name": "stdout",
     "output_type": "stream",
     "text": [
      "1/1 [==============================] - 0s 27ms/step\n"
     ]
    }
   ],
   "source": [
    "y_pred = model.predict(x_test)\n",
    "# print(y_pred)"
   ]
  },
  {
   "cell_type": "code",
   "execution_count": 30,
   "id": "69fd4d01",
   "metadata": {},
   "outputs": [
    {
     "name": "stdout",
     "output_type": "stream",
     "text": [
      "[[77.912056]\n",
      " [78.68986 ]\n",
      " [79.5204  ]\n",
      " [79.570564]\n",
      " [79.67125 ]\n",
      " [79.700165]\n",
      " [79.117744]\n",
      " [77.98534 ]\n",
      " [76.609665]\n",
      " [75.477615]\n",
      " [75.85211 ]\n",
      " [76.41545 ]\n",
      " [76.149994]\n",
      " [75.256355]\n",
      " [73.73973 ]]\n"
     ]
    }
   ],
   "source": [
    "# to plot actual and predicted\n",
    "\n",
    "predicted_price = sc.inverse_transform(y_pred)\n",
    "\n",
    "print(predicted_price)"
   ]
  },
  {
   "cell_type": "code",
   "execution_count": 31,
   "id": "25d6abd8",
   "metadata": {},
   "outputs": [
    {
     "data": {
      "image/png": "[encoded data removed]",
      "text/plain": [
       "<Figure size 640x480 with 1 Axes>"
      ]
     },
     "metadata": {},
     "output_type": "display_data"
    }
   ],
   "source": [
    "#ploting\n",
    "\n",
    "plt.plot(y_test, color=\"red\")\n",
    "plt.plot(predicted_price, color=\"GREEN\")\n",
    "plt.title(\"TCS stocks price prediction\")\n",
    "plt.xlabel(\"time\")\n",
    "plt.ylabel(\"Stocks Price\")\n",
    "plt.legend([\"Actual Stock Price\", \"Preicted Stock Price\"])\n",
    "plt.show()\n"
   ]
  },
  {
   "cell_type": "code",
   "execution_count": null,
   "id": "c8dd6fed",
   "metadata": {},
   "outputs": [],
   "source": []
  }
 ],
 "metadata": {
  "kernelspec": {
   "display_name": "Python 3 (ipykernel)",
   "language": "python",
   "name": "python3"
  },
  "language_info": {
   "codemirror_mode": {
    "name": "ipython",
    "version": 3
   },
   "file_extension": ".py",
   "mimetype": "text/x-python",
   "name": "python",
   "nbconvert_exporter": "python",
   "pygments_lexer": "ipython3",
   "version": "3.9.13"
  }
 },
 "nbformat": 4,
 "nbformat_minor": 5
}
